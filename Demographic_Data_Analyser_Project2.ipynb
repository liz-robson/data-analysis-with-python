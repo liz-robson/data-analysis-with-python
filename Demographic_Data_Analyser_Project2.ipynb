{
  "nbformat": 4,
  "nbformat_minor": 0,
  "metadata": {
    "colab": {
      "provenance": [],
      "authorship_tag": "ABX9TyMKOsUGe7yHzKCaSeQutDSt",
      "include_colab_link": true
    },
    "kernelspec": {
      "name": "python3",
      "display_name": "Python 3"
    },
    "language_info": {
      "name": "python"
    }
  },
  "cells": [
    {
      "cell_type": "markdown",
      "metadata": {
        "id": "view-in-github",
        "colab_type": "text"
      },
      "source": [
        "<a href=\"https://colab.research.google.com/github/liz-robson/data-analysis-with-python/blob/main/Demographic_Data_Analyser_Project2.ipynb\" target=\"_parent\"><img src=\"https://colab.research.google.com/assets/colab-badge.svg\" alt=\"Open In Colab\"/></a>"
      ]
    },
    {
      "cell_type": "markdown",
      "source": [
        "**Demographic Data Analyser**"
      ],
      "metadata": {
        "id": "qntvo_fvgXig"
      }
    },
    {
      "cell_type": "code",
      "execution_count": 2,
      "metadata": {
        "id": "00N_u1V_gWwl"
      },
      "outputs": [],
      "source": [
        "import pandas as pd"
      ]
    },
    {
      "cell_type": "code",
      "source": [
        "# Read data from file\n",
        "df = pd.read_csv('adult.data.csv')\n",
        "df.columns"
      ],
      "metadata": {
        "colab": {
          "base_uri": "https://localhost:8080/"
        },
        "id": "fC5Ed4Vqg4pB",
        "outputId": "c13e14cb-93a2-48ac-b012-83b2f62e4577"
      },
      "execution_count": 3,
      "outputs": [
        {
          "output_type": "execute_result",
          "data": {
            "text/plain": [
              "Index(['age', 'workclass', 'fnlwgt', 'education', 'education-num',\n",
              "       'marital-status', 'occupation', 'relationship', 'race', 'sex',\n",
              "       'capital-gain', 'capital-loss', 'hours-per-week', 'native-country',\n",
              "       'salary'],\n",
              "      dtype='object')"
            ]
          },
          "metadata": {},
          "execution_count": 3
        }
      ]
    },
    {
      "cell_type": "code",
      "source": [
        "# How many of each race are represented in this dataset? This should be a Pandas series with race names as the index labels.\n",
        "race_count = df['race'].value_counts()\n",
        "race_count_str = race_count.to_string(index=False)\n",
        "\n",
        "print(\"Number of each race:\\n\", race_count_str)"
      ],
      "metadata": {
        "colab": {
          "base_uri": "https://localhost:8080/"
        },
        "id": "8eEJls5wjyXq",
        "outputId": "a2c66cee-6acc-4937-f6a3-3752129bf11e"
      },
      "execution_count": 9,
      "outputs": [
        {
          "output_type": "stream",
          "name": "stdout",
          "text": [
            "Number of each race:\n",
            " race\n",
            "27816\n",
            " 3124\n",
            " 1039\n",
            "  311\n",
            "  271\n"
          ]
        }
      ]
    },
    {
      "cell_type": "code",
      "source": [
        " # What is the average age of men?\n",
        "male_df = df[df['sex'] == 'Male']\n",
        "average_age_men = male_df['age'].mean()\n",
        "print('Average age of men: ', average_age_men.round(decimals=1))"
      ],
      "metadata": {
        "colab": {
          "base_uri": "https://localhost:8080/"
        },
        "id": "6LXQFAUolS1l",
        "outputId": "169db64e-29ba-4bea-ac0d-26f857f54fbe"
      },
      "execution_count": 10,
      "outputs": [
        {
          "output_type": "stream",
          "name": "stdout",
          "text": [
            "Average age of men:  39.4\n"
          ]
        }
      ]
    },
    {
      "cell_type": "code",
      "source": [
        "# What is the percentage of people who have a Bachelor's degree?\n",
        "total = df['education'].count()\n",
        "bachelors_holders = df[df['education'] == 'Bachelors']['education'].count()\n",
        "percentage_bachelors = bachelors_holders / total * 100\n",
        "print(f\"Percentage with Bachelors degrees: {percentage_bachelors.round(decimals=1)}%\")"
      ],
      "metadata": {
        "colab": {
          "base_uri": "https://localhost:8080/"
        },
        "id": "JnKFsRKrnuy_",
        "outputId": "c99468cd-45a6-41f4-d153-434e5ef8479e"
      },
      "execution_count": 11,
      "outputs": [
        {
          "output_type": "stream",
          "name": "stdout",
          "text": [
            "Percentage with Bachelors degrees: 16.4%\n"
          ]
        }
      ]
    },
    {
      "cell_type": "code",
      "source": [
        "# What percentage of people with advanced education (`Bachelors`, `Masters`, or `Doctorate`) make more than 50K?\n",
        "degree_holders = df[(df['education'] == 'Bachelors') | (df['education'] == 'Masters') | (df['education'] == 'Doctorate')]\n",
        "num_degree_holders = degree_holders['education'].count()\n",
        "higher_earners = degree_holders[degree_holders['salary'] == '>50K']\n",
        "num_higher_earners = higher_earners['education'].count()\n",
        "higher_education_rich = (num_higher_earners / num_degree_holders) * 100\n",
        "print(f\"Percentage with higher education that earn >50K: {higher_education_rich.round(decimals=1)}%\")"
      ],
      "metadata": {
        "colab": {
          "base_uri": "https://localhost:8080/"
        },
        "id": "TAaGs2fsrkOU",
        "outputId": "ced71189-1fb9-4a7a-af85-b06103c288dd"
      },
      "execution_count": 12,
      "outputs": [
        {
          "output_type": "stream",
          "name": "stdout",
          "text": [
            "Percentage with higher education that earn >50K: 46.5%\n"
          ]
        }
      ]
    },
    {
      "cell_type": "code",
      "source": [
        "# What percentage of people without advanced education make more than 50K?\n",
        "lower_education = df[~((df['education'] == 'Bachelors') | (df['education'] == 'Masters') | (df['education'] == 'Doctorate'))]\n",
        "no_degree_rich = lower_education[lower_education['salary'] == '>50K']\n",
        "lower_education_rich =  no_degree_rich['salary'].count() / lower_education['education'].count() * 100\n",
        "print(f\"Percentage without higher education that earn >50K: {lower_education_rich.round(decimals=1)}%\")"
      ],
      "metadata": {
        "colab": {
          "base_uri": "https://localhost:8080/"
        },
        "id": "zfGYXc0hwHRL",
        "outputId": "a76fe888-7753-4da7-e8b9-ddbb1b754ed4"
      },
      "execution_count": 13,
      "outputs": [
        {
          "output_type": "stream",
          "name": "stdout",
          "text": [
            "Percentage without higher education that earn >50K: 17.4%\n"
          ]
        }
      ]
    },
    {
      "cell_type": "code",
      "source": [
        "# What is the minimum number of hours a person works per week (hours-per-week feature)?\n",
        "min_work_hours = df['hours-per-week'].min()\n",
        "print(f\"Min work time: {min_work_hours} hours/week\")"
      ],
      "metadata": {
        "colab": {
          "base_uri": "https://localhost:8080/"
        },
        "id": "HlZpS3-t5j39",
        "outputId": "7d764839-ac29-4db8-d108-55190d2ea42f"
      },
      "execution_count": null,
      "outputs": [
        {
          "output_type": "stream",
          "name": "stdout",
          "text": [
            "Min work time: 1 hours/week\n"
          ]
        }
      ]
    },
    {
      "cell_type": "code",
      "source": [
        "# What percentage of the people who work the minimum number of hours per week have a salary of >50K?\n",
        "min_work_hours = df['hours-per-week'].min()\n",
        "num_min_workers = df[df['hours-per-week'] == min_work_hours]\n",
        "rich_min_workers = num_min_workers[num_min_workers['salary'] == '>50K']\n",
        "rich_percentage = rich_min_workers.count()[0] / num_min_workers.count()[0] * 100\n",
        "print(f\"Percentage of rich among those who work fewest hours: {rich_percentage}%\")"
      ],
      "metadata": {
        "colab": {
          "base_uri": "https://localhost:8080/"
        },
        "id": "H_7kEbxg6Xnq",
        "outputId": "77280b9b-c603-43fd-99e5-d93f83a508b7"
      },
      "execution_count": 16,
      "outputs": [
        {
          "output_type": "stream",
          "name": "stdout",
          "text": [
            "Percentage of rich among those who work fewest hours: 10.0%\n"
          ]
        }
      ]
    },
    {
      "cell_type": "code",
      "source": [
        "# What country has the highest percentage of people that earn >50K?\n",
        "\n",
        "# People who earn over 50k\n",
        "richest_workers = df[df['salary'] == '>50K']\n",
        "\n",
        "# Number of people earning over 50k by country\n",
        "richest_by_country = richest_workers['native-country'].value_counts()\n",
        "\n",
        "# Populations by country\n",
        "total_pops = df['native-country'].value_counts()\n",
        "\n",
        "# Percentage of high earners in each country\n",
        "percentage_high_earners = (richest_by_country / total_pops) * 100\n",
        "\n",
        "# Highest earning country and percentage\n",
        "highest_earning_country = percentage_high_earners.idxmax()\n",
        "highest_earning_percentage = percentage_high_earners.max()\n",
        "\n",
        "print(\"Country with highest percentage of rich:\", highest_earning_country)\n",
        "print(f\"Highest percentage of rich people in country: {highest_earning_percentage.round(decimals=1)}%\")\n"
      ],
      "metadata": {
        "id": "V156VAhE8j2L",
        "colab": {
          "base_uri": "https://localhost:8080/"
        },
        "outputId": "fbe42e21-52d0-4c0e-e4d0-39927b6cf4ee"
      },
      "execution_count": 5,
      "outputs": [
        {
          "output_type": "stream",
          "name": "stdout",
          "text": [
            "Country with highest percentage of rich: Iran\n",
            "Highest percentage of rich people in country: 41.9%\n"
          ]
        }
      ]
    },
    {
      "cell_type": "code",
      "source": [
        "# Identify the most popular occupation for those who earn >50K in India.\n",
        "\n",
        "IN_workers = richest_workers[richest_workers['native-country'] == 'India']\n",
        "\n",
        "occupation_count = IN_workers['occupation'].value_counts()\n",
        "\n",
        "top_IN_occupation = occupation_count.idxmax()\n",
        "\n",
        "print(\"Top occupations in India:\", top_IN_occupation)\n",
        "\n",
        "\n"
      ],
      "metadata": {
        "id": "T9U9r6c69m43",
        "colab": {
          "base_uri": "https://localhost:8080/"
        },
        "outputId": "1a139d0f-37ba-44a0-cdd1-8c304c253571"
      },
      "execution_count": 25,
      "outputs": [
        {
          "output_type": "stream",
          "name": "stdout",
          "text": [
            "Top occupations in India: Prof-specialty\n"
          ]
        }
      ]
    },
    {
      "cell_type": "markdown",
      "source": [],
      "metadata": {
        "id": "5SQ8sDDNv3Jt"
      }
    }
  ]
}