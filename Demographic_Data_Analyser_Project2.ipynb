{
  "nbformat": 4,
  "nbformat_minor": 0,
  "metadata": {
    "colab": {
      "provenance": [],
      "authorship_tag": "ABX9TyMnFoR56ybMmVpRRxKC8b4m",
      "include_colab_link": true
    },
    "kernelspec": {
      "name": "python3",
      "display_name": "Python 3"
    },
    "language_info": {
      "name": "python"
    }
  },
  "cells": [
    {
      "cell_type": "markdown",
      "metadata": {
        "id": "view-in-github",
        "colab_type": "text"
      },
      "source": [
        "<a href=\"https://colab.research.google.com/github/liz-robson/data-analysis-with-python/blob/main/Demographic_Data_Analyser_Project2.ipynb\" target=\"_parent\"><img src=\"https://colab.research.google.com/assets/colab-badge.svg\" alt=\"Open In Colab\"/></a>"
      ]
    },
    {
      "cell_type": "markdown",
      "source": [
        "**Demographic Data Analyser**"
      ],
      "metadata": {
        "id": "qntvo_fvgXig"
      }
    },
    {
      "cell_type": "code",
      "execution_count": 14,
      "metadata": {
        "id": "00N_u1V_gWwl"
      },
      "outputs": [],
      "source": [
        "import pandas as pd"
      ]
    },
    {
      "cell_type": "code",
      "source": [
        "# Read data from file\n",
        "df = pd.read_csv('adult.data.csv')\n",
        "df.columns"
      ],
      "metadata": {
        "colab": {
          "base_uri": "https://localhost:8080/"
        },
        "id": "fC5Ed4Vqg4pB",
        "outputId": "a18ad543-874b-4017-b846-86f1e5473be6"
      },
      "execution_count": 19,
      "outputs": [
        {
          "output_type": "execute_result",
          "data": {
            "text/plain": [
              "Index(['age', 'workclass', 'fnlwgt', 'education', 'education-num',\n",
              "       'marital-status', 'occupation', 'relationship', 'race', 'sex',\n",
              "       'capital-gain', 'capital-loss', 'hours-per-week', 'native-country',\n",
              "       'salary'],\n",
              "      dtype='object')"
            ]
          },
          "metadata": {},
          "execution_count": 19
        }
      ]
    },
    {
      "cell_type": "code",
      "source": [
        "# How many of each race are represented in this dataset? This should be a Pandas series with race names as the index labels.\n",
        "race_count = df['race'].value_counts()\n",
        "race_count_str = race_count.to_string(index=False)\n",
        "\n",
        "print(\"Number of each race:\\n\", race_count_str)"
      ],
      "metadata": {
        "colab": {
          "base_uri": "https://localhost:8080/"
        },
        "id": "8eEJls5wjyXq",
        "outputId": "9db8c0b0-5525-4854-e7b6-ab93aa30a154"
      },
      "execution_count": 69,
      "outputs": [
        {
          "output_type": "stream",
          "name": "stdout",
          "text": [
            "Number of each race:\n",
            " race\n",
            "27816\n",
            " 3124\n",
            " 1039\n",
            "  311\n",
            "  271\n"
          ]
        }
      ]
    },
    {
      "cell_type": "code",
      "source": [
        " # What is the average age of men?\n",
        "male_df = df[df['sex'] == 'Male']\n",
        "average_age_men = male_df['age'].mean()\n",
        "print('Average age of men: ', average_age_men.round(decimals=1))"
      ],
      "metadata": {
        "colab": {
          "base_uri": "https://localhost:8080/"
        },
        "id": "6LXQFAUolS1l",
        "outputId": "a0d8b0f3-8ae7-41f1-acd7-e1770bab3911"
      },
      "execution_count": 104,
      "outputs": [
        {
          "output_type": "stream",
          "name": "stdout",
          "text": [
            "Average age of men:  39.4\n"
          ]
        }
      ]
    },
    {
      "cell_type": "code",
      "source": [
        "# What is the percentage of people who have a Bachelor's degree?\n",
        "total = df['education'].count()\n",
        "bachelors_holders = df[df['education'] == 'Bachelors']['education'].count()\n",
        "percentage_bachelors = bachelors_holders / total * 100\n",
        "print(f\"Percentage with Bachelors degrees: {percentage_bachelors.round(decimals=1)}%\")"
      ],
      "metadata": {
        "colab": {
          "base_uri": "https://localhost:8080/"
        },
        "id": "JnKFsRKrnuy_",
        "outputId": "e6a401a6-d611-4304-c626-f3eb167edc83"
      },
      "execution_count": 107,
      "outputs": [
        {
          "output_type": "stream",
          "name": "stdout",
          "text": [
            "Percentage with Bachelors degrees: 16.4%\n"
          ]
        }
      ]
    },
    {
      "cell_type": "code",
      "source": [
        "# What percentage of people with advanced education (`Bachelors`, `Masters`, or `Doctorate`) make more than 50K?\n",
        "degree_holders = df[(df['education'] == 'Bachelors') | (df['education'] == 'Masters') | (df['education'] == 'Doctorate')]\n",
        "num_degree_holders = degree_holders['education'].count()\n",
        "higher_earners = degree_holders[degree_holders['salary'] == '>50K']\n",
        "num_higher_earners = higher_earners['education'].count()\n",
        "higher_education_rich = (num_higher_earners / num_degree_holders) * 100\n",
        "print(f\"Percentage with higher education that earn >50K: {higher_education_rich.round(decimals=1)}%\")"
      ],
      "metadata": {
        "colab": {
          "base_uri": "https://localhost:8080/"
        },
        "id": "TAaGs2fsrkOU",
        "outputId": "07cabdb9-098d-4563-eed7-5caec97fb718"
      },
      "execution_count": 111,
      "outputs": [
        {
          "output_type": "stream",
          "name": "stdout",
          "text": [
            "Percentage with higher education that earn >50K: 46.5%\n"
          ]
        }
      ]
    },
    {
      "cell_type": "code",
      "source": [
        "# What percentage of people without advanced education make more than 50K?\n",
        "lower_education = df[~((df['education'] == 'Bachelors') | (df['education'] == 'Masters') | (df['education'] == 'Doctorate'))]\n",
        "no_degree_rich = lower_education[lower_education['salary'] == '>50K']\n",
        "lower_education_rich =  no_degree_rich['salary'].count() / lower_education['education'].count() * 100\n",
        "print(f\"Percentage without higher education that earn >50K: {lower_education_rich.round(decimals=1)}%\")"
      ],
      "metadata": {
        "colab": {
          "base_uri": "https://localhost:8080/"
        },
        "id": "zfGYXc0hwHRL",
        "outputId": "23c23f04-a01f-4698-d646-4851f7d639ad"
      },
      "execution_count": 112,
      "outputs": [
        {
          "output_type": "stream",
          "name": "stdout",
          "text": [
            "Percentage without higher education that earn >50K: 17.4%\n"
          ]
        }
      ]
    },
    {
      "cell_type": "code",
      "source": [
        "# What is the minimum number of hours a person works per week (hours-per-week feature)?\n",
        "min_work_hours = df['hours-per-week'].min()\n",
        "print(f\"Min work time: {min_work_hours} hours/week\")"
      ],
      "metadata": {
        "colab": {
          "base_uri": "https://localhost:8080/"
        },
        "id": "HlZpS3-t5j39",
        "outputId": "7d764839-ac29-4db8-d108-55190d2ea42f"
      },
      "execution_count": 117,
      "outputs": [
        {
          "output_type": "stream",
          "name": "stdout",
          "text": [
            "Min work time: 1 hours/week\n"
          ]
        }
      ]
    },
    {
      "cell_type": "code",
      "source": [
        "# What percentage of the people who work the minimum number of hours per week have a salary of >50K?\n",
        "num_min_workers = df.loc[df['hours-per-week'] == min_work_hours]\n",
        "rich_min_workers = num_min_workers[num_min_workers['salary'] == '>50K']\n",
        "rich_percentage = rich_min_workers.count()[0] / num_min_workers.count()[0] * 100\n",
        "print(f\"Percentage of rich among those who work fewest hours: {rich_percentage}%\")"
      ],
      "metadata": {
        "colab": {
          "base_uri": "https://localhost:8080/"
        },
        "id": "H_7kEbxg6Xnq",
        "outputId": "c53b6f5f-7ce3-4de0-f167-041eccfe35ca"
      },
      "execution_count": 134,
      "outputs": [
        {
          "output_type": "stream",
          "name": "stdout",
          "text": [
            "Percentage of rich among those who work fewest hours: 10.0%\n"
          ]
        }
      ]
    },
    {
      "cell_type": "code",
      "source": [],
      "metadata": {
        "id": "V156VAhE8j2L"
      },
      "execution_count": null,
      "outputs": []
    },
    {
      "cell_type": "markdown",
      "source": [],
      "metadata": {
        "id": "5SQ8sDDNv3Jt"
      }
    }
  ]
}