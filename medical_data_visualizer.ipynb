{
  "nbformat": 4,
  "nbformat_minor": 0,
  "metadata": {
    "colab": {
      "provenance": [],
      "authorship_tag": "ABX9TyOHf2BTUoliAMrvOnBAljkA",
      "include_colab_link": true
    },
    "kernelspec": {
      "name": "python3",
      "display_name": "Python 3"
    },
    "language_info": {
      "name": "python"
    }
  },
  "cells": [
    {
      "cell_type": "markdown",
      "metadata": {
        "id": "view-in-github",
        "colab_type": "text"
      },
      "source": [
        "<a href=\"https://colab.research.google.com/github/liz-robson/data-analysis-with-python/blob/main/medical_data_visualizer.ipynb\" target=\"_parent\"><img src=\"https://colab.research.google.com/assets/colab-badge.svg\" alt=\"Open In Colab\"/></a>"
      ]
    },
    {
      "cell_type": "code",
      "execution_count": 1,
      "metadata": {
        "id": "2OVk30jUXNf8"
      },
      "outputs": [],
      "source": [
        "import pandas as pd\n",
        "import seaborn as sns\n",
        "import matplotlib.pyplot as plt\n",
        "import numpy as np"
      ]
    },
    {
      "cell_type": "code",
      "source": [
        "# 1 Read csv file\n",
        "df = pd.read_csv('medical_examination.csv')\n",
        "df.columns"
      ],
      "metadata": {
        "colab": {
          "base_uri": "https://localhost:8080/"
        },
        "id": "4FVkYSpMXdGb",
        "outputId": "57d1be24-d4b5-4e93-de52-48b61cbd4742"
      },
      "execution_count": 7,
      "outputs": [
        {
          "output_type": "execute_result",
          "data": {
            "text/plain": [
              "Index(['id', 'age', 'sex', 'height', 'weight', 'ap_hi', 'ap_lo', 'cholesterol',\n",
              "       'gluc', 'smoke', 'alco', 'active', 'cardio'],\n",
              "      dtype='object')"
            ]
          },
          "metadata": {},
          "execution_count": 7
        }
      ]
    },
    {
      "cell_type": "code",
      "source": [
        "# 2 Create new column to work out BMI\n",
        "\n",
        "# Calculate BMI\n",
        "bmi_data = df['weight'] / (df['height'] / 100) ** 2\n",
        "\n",
        "# Set each entry to True in condition below met, else set to false\n",
        "df['overweight'] = bmi_data > 25\n",
        "\n",
        "# Convert boolean to integer\n",
        "df['overweight'] = df['overweight'].astype(int)\n",
        "\n",
        "print(df['overweight'])"
      ],
      "metadata": {
        "id": "g2mPvUasX8ty"
      },
      "execution_count": null,
      "outputs": []
    },
    {
      "cell_type": "code",
      "source": [
        "# 3 Normalize data by making 0 always good and 1 always bad. If the value of cholesterol or gluc is 1, set the value to 0. If the value is more than 1, set the value to 1.\n",
        "\n",
        "# Normalise cholesterol\n",
        "df['cholesterol'] = np.where(df['cholesterol'] > 1, 1, 0)\n",
        "\n",
        "# Normalise glucose\n",
        "df['gluc'] = np.where(df['gluc'] > 1, 1, 0)\n",
        "\n"
      ],
      "metadata": {
        "id": "D_CvJxYTYEhw"
      },
      "execution_count": 16,
      "outputs": []
    },
    {
      "cell_type": "code",
      "source": [
        "# 4 Draw the Categorical Plot in the draw_cat_plot function\n",
        "\n",
        "# 5 Create a DataFrame for the cat plot using pd.melt with values from cholesterol, gluc, smoke, alco, active, and overweight in the df_cat variable.\n",
        "\n",
        "# 6 Group and reformat the data in df_cat to split it by cardio. Show the counts of each feature. You will have to rename one of the columns for the catplot to work correctly.\n",
        "\n",
        "# 7 Convert the data into long format and create a chart that shows the value counts of the categorical features using the following method provided by the seaborn library import : sns.catplot()\n",
        "\n",
        "# 8 Get the figure for the output and store it in the fig variable\n",
        "\n",
        "df_cat = pd.melt(df, value_vars=[\"active\", \"alco\", \"cholesterol\", \"gluc\", \"overweight\", \"smoke\"], id_vars =\"cardio\")\n",
        "df_cat.rename(columns={'variable': 'feature'}, inplace=True)\n",
        "plot = sns.catplot(data=df_cat, kind=\"count\", x=\"feature\", hue=\"value\", col=\"cardio\")\n",
        "plot.set_axis_labels(\"\", \"total\")\n",
        "fig = plot.fig\n"
      ],
      "metadata": {
        "colab": {
          "base_uri": "https://localhost:8080/",
          "height": 471
        },
        "id": "f61wEse_ePFD",
        "outputId": "a6f67471-897c-4e38-9c63-64a273bd189a"
      },
      "execution_count": 34,
      "outputs": [
        {
          "output_type": "display_data",
          "data": {
            "text/plain": [
              "<Figure size 1058.88x500 with 2 Axes>"
            ],
            "image/png": "[encoded data removed]"
          },
          "metadata": {}
        }
      ]
    },
    {
      "cell_type": "code",
      "source": [
        "# 10 Draw the Heat Map in the draw_heat_map function\n",
        "\n",
        "def draw_heat_map():\n",
        "  df_heat = df[\n",
        "      (df[\"height\"] >= (df[\"height\"].quantile(0.025))) &\n",
        "       (df[\"height\"] <= (df[\"height\"].quantile(0.975))) &\n",
        "        (df[\"weight\"] >= (df[\"weight\"].quantile(0.025))) &\n",
        "         (df[\"weight\"] <= (df[\"weight\"].quantile(0.975)))\n",
        "]\n",
        "\n",
        "# Calculate the correlation matrix\n",
        "  corr = df_heat.corr()\n",
        "\n",
        "\n",
        "# Generate a mask for the upper triangle\n",
        "  mask = np.triu(corr)\n",
        "\n",
        "\n",
        "# Set up the matplotlib figure\n",
        "  fig, ax = plt.subplots(figsize=(12,10))\n",
        "\n",
        "  sns.heatmap(corr,annot=True, fmt='.1f', cmap='coolwarm', linewidths=0.5, mask=mask, vmax=.8, center=0.09,square=True, cbar_kws = {'shrink':0.5})\n",
        "\n",
        "  plt.title('Heatmap')\n",
        "\n",
        "  plt.show()\n",
        "\n",
        "  draw_heat_map()"
      ],
      "metadata": {
        "id": "7xvmDliMlua2"
      },
      "execution_count": 54,
      "outputs": []
    }
  ]
}