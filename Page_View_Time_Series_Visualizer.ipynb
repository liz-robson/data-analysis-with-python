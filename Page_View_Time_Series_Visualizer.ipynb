{
  "nbformat": 4,
  "nbformat_minor": 0,
  "metadata": {
    "colab": {
      "provenance": [],
      "authorship_tag": "ABX9TyOL2nijaDGOO4KjUVLNld6H",
      "include_colab_link": true
    },
    "kernelspec": {
      "name": "python3",
      "display_name": "Python 3"
    },
    "language_info": {
      "name": "python"
    }
  },
  "cells": [
    {
      "cell_type": "markdown",
      "metadata": {
        "id": "view-in-github",
        "colab_type": "text"
      },
      "source": [
        "<a href=\"https://colab.research.google.com/github/liz-robson/data-analysis-with-python/blob/main/Page_View_Time_Series_Visualizer.ipynb\" target=\"_parent\"><img src=\"https://colab.research.google.com/assets/colab-badge.svg\" alt=\"Open In Colab\"/></a>"
      ]
    },
    {
      "cell_type": "code",
      "execution_count": 1,
      "metadata": {
        "id": "U1C9swkDs0NU"
      },
      "outputs": [],
      "source": [
        "import matplotlib.pyplot as plt\n",
        "import pandas as pd\n",
        "import seaborn as sns\n",
        "from pandas.plotting import register_matplotlib_converters\n",
        "register_matplotlib_converters()"
      ]
    },
    {
      "cell_type": "code",
      "source": [
        "# 1 Use Pandas to import the data from \"fcc-forum-pageviews.csv\". Set the index to the date column.\n",
        "\n",
        "df = pd.read_csv(\"fcc-forum-pageviews.csv\", parse_dates=['date'],  index_col='date')\n",
        "print(df.head())"
      ],
      "metadata": {
        "colab": {
          "base_uri": "https://localhost:8080/"
        },
        "id": "Z828ucsRA5zp",
        "outputId": "bbd40e59-75b0-4c30-98d1-b44f0b896d33"
      },
      "execution_count": 15,
      "outputs": [
        {
          "output_type": "stream",
          "name": "stdout",
          "text": [
            "            value\n",
            "date             \n",
            "2016-05-09   1201\n",
            "2016-05-10   2329\n",
            "2016-05-11   1716\n",
            "2016-05-12  10539\n",
            "2016-05-13   6933\n"
          ]
        }
      ]
    },
    {
      "cell_type": "code",
      "source": [
        "# 2 Clean the data by filtering out days when the page views were in the top 2.5% of the dataset or bottom 2.5% of the dataset.\n"
      ],
      "metadata": {
        "id": "949bcX5qB3k7"
      },
      "execution_count": null,
      "outputs": []
    }
  ]
}